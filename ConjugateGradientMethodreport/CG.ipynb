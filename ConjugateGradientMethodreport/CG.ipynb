# cg_mpmath.py: 多倍長精度CG 法 
import numpy as np [cite: 177]
import mpmath # 多倍長精度計算 [cite: 179]
import mpmath.libmp # 可能ならばgmpy2を使用 [cite: 182]
import time [cite: 189]

# 計算精度初期設定
mpmath.mp.dps = 30 # 10進精度桁数 [cite: 196]
input_dps = input('10進精度桁数 dps (推奨: 30, 50, 100, 200, 500): ') [cite: 198]
if int(input_dps) > mpmath.mp.dps: [cite: 201]
    mpmath.mp.dps = int(input_dps) [cite: 203]
print(f'10進精度桁数 = {mpmath.mp.dps}') [cite: 204]

# CG法(mpmath版) [cite: 210]
def cg(vec_x, mat_a, vec_b, rtol, atol, max_times):
    dim = vec_x.rows [cite: 212]
    r = vec_b - mat_a * vec_x [cite: 214]
    p = r [cite: 216]
    rsold = mpmath.dot(r.T, r) # mpmath.dotを使用 [cite: 217]

    init_norm_r = mpmath.norm(r) [cite: 218]
    old_norm_r = init_norm_r [cite: 219]

    print("CG: iteration, time=, relerr(vec_x)=, relerr(vec_b)=, norm_r_rel") # 追加情報
    
    for times in range(max_times): [cite: 233]
        ap = mat_a * p [cite: 234]
        
        # mpmath.dotの戻り値は1x1行列なので、[0]で要素を取り出す
        alpha = rsold / mpmath.dot(p.T, ap)[0] [cite: 235]
        
        vec_x = vec_x + alpha * p [cite: 236]
        r = r - alpha * ap
        rsnew = mpmath.dot(r.T, r)

        # 残差ノルムの更新
        new_norm_r = mpmath.norm(r) [cite: 493]
        
        # 収束判定
        if new_norm_r <= (rtol * init_norm_r + atol): [cite: 496]
            break
        
        beta = new_norm_r * new_norm_r / rsold [cite: 495] # rsoldはr^T rだったので、new_norm_r^2 / rsold
        p = r + beta * p [cite: 497]
        rsold = rsnew [cite: 498]
        
        # 進捗表示 [cite: 496]
        print(f'{times}, {mpmath.nstr(new_norm_r / init_norm_r)}') 

    return times, vec_x [cite: 500]

# メイン実行部分 [cite: 222]
if __name__ == '__main__':
    str_dim = input('正方行列サイズ dim = ') [cite: 502]
    dim = int(str_dim) [cite: 502]

    # 行列要素を設定 [cite: 503]
    mat_a = mpmath.zeros(dim, dim) [cite: 504]
    for i in range(dim): [cite: 505]
        for j in range(dim): [cite: 506]
            mat_a[i, j] = mpmath.mpf(dim - max(i, j)) [cite: 510]
    
    # x = [1, 2, ..., dim] の真の解を生成 [cite: 512, 514]
    vec_true_x = mpmath.matrix([mpmath.mpf(i) for i in range(1, dim + 1)]) 
    
    # b = A * x を計算 [cite: 516, 517]
    vec_b = mat_a * vec_true_x [cite: 517]

    # CG法実行 [cite: 518]
    vec_x = mpmath.zeros(dim, 1) # 初期解をゼロベクトルに設定 [cite: 519, 520]
    
    start_time = time.time() [cite: 225]
    # rtol, atolは資料から2.00-20, 0.0と読み取れる [cite: 521]
    iterative_times, vec_x = cg(vec_x, mat_a, vec_b, 2.00e-20, 0.0, dim * 10) [cite: 521]
    time_taken = time.time() - start_time [cite: 521]
    
    # 相対誤差の計算
    relerr = mpmath.norm(vec_x - vec_true_x) / mpmath.norm(vec_true_x) [cite: 522]
    
    print(f'CG: iteration={iterative_times}, time={time_taken:.4f}s') [cite: 523, 524]
    print(f'relerr(vec_x)={mpmath.nstr(relerr)}') [cite: 525]