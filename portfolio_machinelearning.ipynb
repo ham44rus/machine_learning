{
  "cells": [
    {
      "cell_type": "code",
      "execution_count": 10,
      "metadata": {
        "colab": {
          "base_uri": "https://localhost:8080/"
        },
        "id": "92UMFf-L0BZ6",
        "outputId": "4fbad26a-25d1-4c37-a7f1-2ca2128642c0"
      },
      "outputs": [
        {
          "name": "stdout",
          "output_type": "stream",
          "text": [
            "Defaulting to user installation because normal site-packages is not writeable\n",
            "Collecting matplotlib\n",
            "  Downloading matplotlib-3.9.4-cp39-cp39-macosx_11_0_arm64.whl (7.8 MB)\n",
            "\u001b[K     |████████████████████████████████| 7.8 MB 3.6 MB/s eta 0:00:01\n",
            "\u001b[?25hCollecting fonttools>=4.22.0\n",
            "  Downloading fonttools-4.55.3-cp39-cp39-macosx_10_9_universal2.whl (2.8 MB)\n",
            "\u001b[K     |████████████████████████████████| 2.8 MB 8.7 MB/s eta 0:00:01\n",
            "\u001b[?25hCollecting pillow>=8\n",
            "  Downloading pillow-11.1.0-cp39-cp39-macosx_11_0_arm64.whl (3.1 MB)\n",
            "\u001b[K     |████████████████████████████████| 3.1 MB 9.2 MB/s eta 0:00:01\n",
            "\u001b[?25hCollecting contourpy>=1.0.1\n",
            "  Downloading contourpy-1.3.0-cp39-cp39-macosx_11_0_arm64.whl (249 kB)\n",
            "\u001b[K     |████████████████████████████████| 249 kB 7.4 MB/s eta 0:00:01\n",
            "\u001b[?25hRequirement already satisfied: packaging>=20.0 in /Users/rintaro/Library/Python/3.9/lib/python/site-packages (from matplotlib) (24.2)\n",
            "Collecting pyparsing>=2.3.1\n",
            "  Downloading pyparsing-3.2.1-py3-none-any.whl (107 kB)\n",
            "\u001b[K     |████████████████████████████████| 107 kB 7.2 MB/s eta 0:00:01\n",
            "\u001b[?25hCollecting kiwisolver>=1.3.1\n",
            "  Downloading kiwisolver-1.4.7-cp39-cp39-macosx_11_0_arm64.whl (64 kB)\n",
            "\u001b[K     |████████████████████████████████| 64 kB 5.4 MB/s eta 0:00:01\n",
            "\u001b[?25hCollecting importlib-resources>=3.2.0\n",
            "  Downloading importlib_resources-6.5.2-py3-none-any.whl (37 kB)\n",
            "Collecting cycler>=0.10\n",
            "  Downloading cycler-0.12.1-py3-none-any.whl (8.3 kB)\n",
            "Requirement already satisfied: numpy>=1.23 in /Users/rintaro/Library/Python/3.9/lib/python/site-packages (from matplotlib) (2.0.2)\n",
            "Requirement already satisfied: python-dateutil>=2.7 in /Users/rintaro/Library/Python/3.9/lib/python/site-packages (from matplotlib) (2.9.0.post0)\n",
            "Requirement already satisfied: zipp>=3.1.0 in /Users/rintaro/Library/Python/3.9/lib/python/site-packages (from importlib-resources>=3.2.0->matplotlib) (3.21.0)\n",
            "Requirement already satisfied: six>=1.5 in /Applications/Xcode.app/Contents/Developer/Library/Frameworks/Python3.framework/Versions/3.9/lib/python3.9/site-packages (from python-dateutil>=2.7->matplotlib) (1.15.0)\n",
            "Installing collected packages: pyparsing, pillow, kiwisolver, importlib-resources, fonttools, cycler, contourpy, matplotlib\n",
            "Successfully installed contourpy-1.3.0 cycler-0.12.1 fonttools-4.55.3 importlib-resources-6.5.2 kiwisolver-1.4.7 matplotlib-3.9.4 pillow-11.1.0 pyparsing-3.2.1\n",
            "\u001b[33mWARNING: You are using pip version 21.2.4; however, version 24.3.1 is available.\n",
            "You should consider upgrading via the '/Applications/Xcode.app/Contents/Developer/usr/bin/python3 -m pip install --upgrade pip' command.\u001b[0m\n",
            "Note: you may need to restart the kernel to use updated packages.\n"
          ]
        }
      ],
      "source": [
        "pip install matplotlib\n"
      ]
    },
    {
      "cell_type": "code",
      "execution_count": 2,
      "metadata": {
        "colab": {
          "base_uri": "https://localhost:8080/",
          "height": 78
        },
        "id": "ZS4Qm8f62ck7",
        "outputId": "dfb53da4-8e0e-46c0-99a6-0b62420cfee3"
      },
      "outputs": [
        {
          "name": "stdout",
          "output_type": "stream",
          "text": [
            "Defaulting to user installation because normal site-packages is not writeable\n",
            "Collecting pandas\n",
            "  Downloading pandas-2.2.3-cp39-cp39-macosx_11_0_arm64.whl (11.3 MB)\n",
            "\u001b[K     |████████████████████████████████| 11.3 MB 5.5 MB/s eta 0:00:01\n",
            "\u001b[?25hCollecting numpy\n",
            "  Downloading numpy-2.0.2-cp39-cp39-macosx_14_0_arm64.whl (5.3 MB)\n",
            "\u001b[K     |████████████████████████████████| 5.3 MB 7.5 MB/s eta 0:00:01\n",
            "\u001b[?25hCollecting scikit-learn\n",
            "  Downloading scikit_learn-1.6.0-cp39-cp39-macosx_12_0_arm64.whl (11.1 MB)\n",
            "\u001b[K     |████████████████████████████████| 11.1 MB 6.4 MB/s eta 0:00:01\n",
            "\u001b[?25hRequirement already satisfied: openpyxl in /Users/rintaro/Library/Python/3.9/lib/python/site-packages (3.1.5)\n",
            "Collecting tzdata>=2022.7\n",
            "  Downloading tzdata-2024.2-py2.py3-none-any.whl (346 kB)\n",
            "\u001b[K     |████████████████████████████████| 346 kB 13.5 MB/s eta 0:00:01\n",
            "\u001b[?25hCollecting pytz>=2020.1\n",
            "  Downloading pytz-2024.2-py2.py3-none-any.whl (508 kB)\n",
            "\u001b[K     |████████████████████████████████| 508 kB 16.7 MB/s eta 0:00:01\n",
            "\u001b[?25hRequirement already satisfied: python-dateutil>=2.8.2 in /Users/rintaro/Library/Python/3.9/lib/python/site-packages (from pandas) (2.9.0.post0)\n",
            "Collecting threadpoolctl>=3.1.0\n",
            "  Downloading threadpoolctl-3.5.0-py3-none-any.whl (18 kB)\n",
            "Collecting scipy>=1.6.0\n",
            "  Downloading scipy-1.13.1-cp39-cp39-macosx_12_0_arm64.whl (30.3 MB)\n",
            "\u001b[K     |████████████████████████████████| 30.3 MB 9.0 MB/s eta 0:00:012\n",
            "\u001b[?25hCollecting joblib>=1.2.0\n",
            "  Downloading joblib-1.4.2-py3-none-any.whl (301 kB)\n",
            "\u001b[K     |████████████████████████████████| 301 kB 15.7 MB/s eta 0:00:01\n",
            "\u001b[?25hRequirement already satisfied: et-xmlfile in /Users/rintaro/Library/Python/3.9/lib/python/site-packages (from openpyxl) (2.0.0)\n",
            "Requirement already satisfied: six>=1.5 in /Applications/Xcode.app/Contents/Developer/Library/Frameworks/Python3.framework/Versions/3.9/lib/python3.9/site-packages (from python-dateutil>=2.8.2->pandas) (1.15.0)\n",
            "Installing collected packages: numpy, tzdata, threadpoolctl, scipy, pytz, joblib, scikit-learn, pandas\n",
            "Successfully installed joblib-1.4.2 numpy-2.0.2 pandas-2.2.3 pytz-2024.2 scikit-learn-1.6.0 scipy-1.13.1 threadpoolctl-3.5.0 tzdata-2024.2\n",
            "\u001b[33mWARNING: You are using pip version 21.2.4; however, version 24.3.1 is available.\n",
            "You should consider upgrading via the '/Applications/Xcode.app/Contents/Developer/usr/bin/python3 -m pip install --upgrade pip' command.\u001b[0m\n",
            "Note: you may need to restart the kernel to use updated packages.\n"
          ]
        }
      ],
      "source": [
        "pip install pandas numpy scikit-learn openpyxl\n"
      ]
    },
    {
      "cell_type": "code",
      "execution_count": 3,
      "metadata": {
        "id": "1V00rA_S0B9K"
      },
      "outputs": [],
      "source": [
        "import openpyxl\n",
        "# test_1.xlsxを読み込む\n",
        "workbook = openpyxl.load_workbook(\"titanic.xlsx\")\n",
        "sheet = workbook[\"in\"]\n",
        "flag = \"Survived\""
      ]
    },
    {
      "cell_type": "code",
      "execution_count": 4,
      "metadata": {
        "colab": {
          "base_uri": "https://localhost:8080/"
        },
        "id": "1DFg4isu09oN",
        "outputId": "aff4b51e-5eeb-4293-dfe8-d17e41fa4ba6"
      },
      "outputs": [
        {
          "name": "stdout",
          "output_type": "stream",
          "text": [
            "coefficient= [[-0.94260129 -0.6378609  -0.35674612 -0.09596798  0.13205979 -0.0948755\n",
            "   0.62205435 -0.25905399  0.1095115  -0.09091445  0.40653783 -0.20334128\n",
            "  -0.32899108  0.13733538  0.58874754  0.39232929 -0.06597397  0.6002057\n",
            "   0.69053465  0.73485582  0.85629677 -0.07615267  0.7396411  -0.05840363\n",
            "  -0.07149562  0.6909021  -0.05606024  0.4475617   0.7198217  -0.09597556\n",
            "   0.69782949  0.21276959 -0.05982087 -0.06412647  0.64739703  0.4636904\n",
            "   0.51172538 -0.05971191  0.44823062  0.20575722 -0.03328202  0.68755856\n",
            "   0.46733213  0.29897376 -0.55759468  0.40768897  0.05002927  0.02743781\n",
            "   0.07776941  0.15970912 -0.59383189 -0.56726745  0.11044363 -0.76637447\n",
            "   0.22380408  0.23069721  0.19130933  0.17219685  0.137367    0.02047248\n",
            "   0.04422938 -0.6623268   0.05789309  0.16290389 -0.3763757  -0.48095871\n",
            "   0.23782797  0.17951343  0.08507198  0.04291119  0.08479704  0.33862363\n",
            "  -0.59387099  0.27424789  0.30544064  0.27388257  0.0453107  -0.65271171\n",
            "  -0.60891623  0.1609705  -0.16723489  0.08570951  0.06987705 -0.59393062\n",
            "  -0.4143685  -0.1358765  -0.40474283  0.12394855  0.16999666 -0.50251507\n",
            "   0.03211245  0.11964808  0.15128851  0.29546387  0.06339124  0.05831246\n",
            "   0.03870973 -0.62075361  0.25188999  0.26183256 -0.44065388  0.09513876\n",
            "   0.0385737   0.04384904  0.50756035  0.15791612  0.01960621 -0.58626901\n",
            "   0.04495911  0.03139706  0.32163611  0.197601    0.07355373  0.04354248\n",
            "   0.19762826 -0.93987125  0.24467968  0.0405604   0.21476986  0.2666601\n",
            "  -0.77079546  0.1375411   0.13330948 -0.58411676 -0.52543017 -0.58593229\n",
            "   0.23600781  0.0297056   0.13688844  0.07519699  0.16138747  0.16898437\n",
            "   0.23763548  0.08891035  0.19763401  0.21707768  0.26322308 -0.53025342\n",
            "  -0.5315408   0.21121815  0.26663108  0.04816769 -0.26348668  0.38742761\n",
            "   0.03681016  0.15379385  0.1072013   0.07472881  0.07896132  0.14277936\n",
            "   0.0352139   0.21702444  0.06957268  0.26322308  0.23065937  0.28190408\n",
            "  -0.51176146  0.18580442 -0.52234551  0.24403339  0.05149667 -0.51212165\n",
            "   0.09897484  0.07072285  0.04394452  0.21046371 -0.59393062  0.03107207\n",
            "   0.12787975  0.23763548 -0.50706096  0.23758575 -0.44297701 -0.53013143\n",
            "   0.2323709  -0.61041685  0.06898619  0.02484319 -0.52378545  0.05354622\n",
            "   0.03425121 -0.60066387  0.09931729 -0.3610564   0.07689453  0.0497385\n",
            "   0.1499626  -0.47725415  0.23762585  0.13514795  0.03815616  0.03639823\n",
            "   0.03639823 -0.10642609 -0.07204824 -0.05424881  0.54319632 -0.11045691\n",
            "  -0.15894761  0.45602954 -0.114843    0.80277324 -0.15057814 -0.43038456\n",
            "  -0.2577296  -0.14830867 -0.03073961 -0.26219235 -0.32010759 -0.06135568\n",
            "  -0.03976966 -0.12871893  0.8074985   0.83372544 -0.30085276 -0.02714261\n",
            "  -0.04360626 -0.12818578 -0.05423644 -0.16433677 -0.07335058 -0.08133466\n",
            "  -0.1236459  -0.07633488 -0.29831759 -0.27432966 -0.06130743 -0.15726219\n",
            "  -0.09503411 -0.09176135 -0.28161139 -0.04730693 -0.29941374 -0.0948973\n",
            "  -0.41088869  0.82060923  0.85779113 -0.06281715 -0.13353071 -0.03721255\n",
            "  -0.23515547 -0.02931304  0.55669896 -0.24551255 -0.35689363 -0.32908296\n",
            "   0.5268268  -0.09808476 -0.32508481 -0.1192194   0.62858846  0.80483309\n",
            "  -0.02937825 -0.02640035 -0.08141172 -0.45083026 -0.12359854 -0.1192194\n",
            "  -0.12567873 -0.09673386 -0.12800809 -0.13775155 -0.29766726 -0.05093924\n",
            "  -0.1236459   0.73376152  0.69831334 -0.05581705  0.4993816  -0.26898157\n",
            "  -0.12355327 -0.11243307 -0.12347921  0.79620715  0.8206486  -0.1192194\n",
            "   0.61362614 -0.09148259 -0.18336539 -0.26089442 -0.14972468 -0.28492198\n",
            "  -0.22454639 -0.11915835 -0.1330043  -0.08629382 -0.07461567  0.82616321\n",
            "  -0.04997816 -0.41087441  0.80278171  0.75617703 -0.1375997  -0.10246699\n",
            "  -0.30400215 -0.11068334 -0.26966359 -0.08799509 -0.43836175 -0.05241056\n",
            "  -0.37358476  0.42635687 -0.10862724 -0.21751682 -0.22361555  0.50352705\n",
            "  -0.17733144 -0.28939419  0.77026908  0.40284555 -0.1258296   0.45349296\n",
            "  -0.37822656 -0.26006528  0.84935875 -0.03723892 -0.19179284 -0.008841\n",
            "  -0.33607169 -0.16972489 -0.04685828 -0.10401779 -0.10261     0.72614779\n",
            "  -0.07830433  0.22060716  0.3412874   0.74158638 -0.13759858  0.72649284\n",
            "  -0.21116892 -0.14782098 -0.12821224  0.5543433  -0.08799509 -0.48207543\n",
            "   0.43536596 -0.21420668 -0.07523964 -0.24841497  0.47865065 -0.1236284\n",
            "  -0.09855824 -0.10638217 -0.09802493 -0.10571624 -0.16113612 -0.23267137\n",
            "  -0.31636737 -0.17883357 -0.09508507 -0.34351315  0.53149545 -0.05893565\n",
            "  -0.05646507 -0.12823023 -0.07133302  0.80273232 -0.1106484  -0.04481446\n",
            "  -0.11393868 -0.05209727 -0.29635336 -0.07489681 -0.1024623  -0.12382822\n",
            "  -0.20771409 -0.09502493 -0.2314171  -0.04997816 -0.06367967  0.44454353\n",
            "  -0.11914135 -0.0195488   0.80218823 -0.11918236 -0.0466579  -0.14296247\n",
            "  -0.04781964 -0.07827763 -0.02416079 -0.20378611 -0.01380631 -0.03715146\n",
            "  -0.06140062 -0.12377153 -0.10264289  0.28750909 -0.03865136 -0.18117408\n",
            "  -0.11871551 -0.33867246 -0.06919473 -0.05190657 -0.11640191 -0.12575298\n",
            "  -0.04570142 -0.13070996 -0.11902735 -0.11914735 -0.36437025 -0.20624326\n",
            "  -0.0589562  -0.10258423 -0.25273292 -0.12342985 -0.18417039 -0.09653645\n",
            "  -0.11068334 -0.05437429 -0.14296247 -0.07817511  0.85739373  0.5925692\n",
            "  -0.12822281 -0.06010698  0.88338587 -0.13290422  0.35450178 -0.119532\n",
            "  -0.08457046 -0.1064206  -0.09301359 -0.1148527  -0.19671676 -0.1148527\n",
            "  -0.1148527   0.65461977 -0.23744266  0.80483309 -0.10522214 -0.12664559\n",
            "  -0.08339361 -0.09537619 -0.0914486  -0.12863084 -0.13297602 -0.09486957\n",
            "  -0.1290453  -0.06657953 -0.06813636 -0.06405915 -0.07815454 -0.09310745\n",
            "  -0.06382831 -0.07218265 -0.13134266 -0.10653414 -0.1328977  -0.18591612\n",
            "   0.72014806 -0.11899737 -0.07206015 -0.12826199  0.37331598 -0.08784473\n",
            "  -0.08456591 -0.14670049 -0.08796609 -0.06671006 -0.42091639 -0.08132952\n",
            "  -0.1148527  -0.08796609 -0.05884633 -0.26006528 -0.1425679   0.77953563\n",
            "  -0.08291461 -0.13293576 -0.09537619 -0.15442707 -0.04225387  0.78978647\n",
            "  -0.14253924 -0.11516317  0.42181851 -0.14822849 -0.09865206 -0.11062575\n",
            "  -0.11902236 -0.08797895 -0.09145264 -0.01607072 -0.09106804 -0.12821224\n",
            "  -0.13773927 -0.06927846 -0.07068671 -0.11918236 -0.04892718 -0.22052603\n",
            "  -0.29766726 -0.05427925 -0.1328716   0.58166407 -0.14404368 -0.07340633\n",
            "  -0.11522749 -0.08807306 -0.03271289  0.38050685 -0.55186972 -0.09508507\n",
            "  -0.08784083 -0.12959636 -0.21688242 -0.24551255 -0.21116892 -0.1740218\n",
            "  -0.1578686  -0.12361501 -0.32078642 -0.14360177 -0.0388507  -0.15726219\n",
            "  -0.19964354 -0.10656802 -0.22473284 -0.14310136 -0.09502493 -0.25173713\n",
            "   0.36281849 -0.12818578 -0.10305808  0.80972661 -0.01743934 -0.11902735\n",
            "  -0.24551255  0.60440733 -0.53781347 -0.17315618 -0.12826199 -0.14404368\n",
            "  -0.10896888 -0.10651398 -0.07515231 -0.14543595 -0.08784004 -0.18828069\n",
            "  -0.19742613 -0.10083222 -0.06933989 -0.09505416 -0.10653832 -0.12723927\n",
            "  -0.09492061 -0.10418305  0.80832152 -0.31319989 -0.36866745  0.24555844\n",
            "  -0.11914435  0.73388564 -0.32078642 -0.07515231 -0.07351955 -0.08793868\n",
            "  -0.04940383 -0.34481498 -0.0639493  -0.22886301 -0.12362223 -0.05427925\n",
            "  -0.31566031 -0.14808588  0.71056674 -0.49092864 -0.37550107 -0.04418612\n",
            "  -0.48797955 -0.09547475 -0.05457076 -0.27997856 -0.22220111 -0.21027204\n",
            "   0.52508399 -0.41311542 -0.10260823 -0.07220717 -0.10638217 -0.27246833\n",
            "  -0.20395022  0.33587371 -0.13088672 -0.26966359 -0.29046402  0.5181991\n",
            "  -0.30212188 -0.07220717 -0.18591612 -0.12826199  0.77972401 -0.09326179\n",
            "  -0.04400642 -0.26006528 -0.21116892  0.52128845 -0.17104126 -0.08799509\n",
            "  -0.07515231 -0.13297602  0.3690662  -0.17771023 -0.09877264 -0.08405842\n",
            "  -0.08784083  0.16898437  0.15865761  0.29245496 -0.35699104  0.10951398\n",
            "   0.13321134  0.58855116  0.20534027  0.33840217  0.2978395  -0.49018486\n",
            "   0.14737758  0.03899707  0.14578863 -0.29657711  0.08222098  0.10622326\n",
            "  -0.2644771   0.24182287  0.29794275  0.54174034  0.25527314  0.15607861\n",
            "   0.1647609   0.32842006  0.03913351  0.05133268  0.11997314  0.20736205\n",
            "   0.06436776  0.22784802  0.13404671  0.10004902 -0.54436972  0.2378376\n",
            "   0.2250572   0.38844112  0.09263245 -0.22337961  0.17768565  0.07568579\n",
            "   0.10362918  0.10524938  0.15699644  0.06354505  0.41096131  0.1979917\n",
            "   0.07677486  0.13235409  0.09066893  0.28765302 -0.87104097  0.0820252\n",
            "   0.19177194  0.07879331  0.21519159 -0.42344713  0.09368969  0.1417809\n",
            "   0.02710526 -0.55390646  0.1558289  -0.55222806 -0.37785661 -0.31454053\n",
            "  -0.43499802  0.52930186  0.17039527  0.17039527  0.09350312  0.16292742\n",
            "   0.09871944 -0.43172449  0.07580349  0.28684889  0.14176488  0.22739614\n",
            "   0.16537167  0.32609899  0.0922418   0.20383896  0.14354485  0.30723285\n",
            "   0.42404062  0.32598657  0.13860889  0.25457275  0.03446946  0.14676317\n",
            "  -0.42567107 -0.23854745 -0.68027399  0.13316685 -0.32615063  0.21348557\n",
            "  -0.47956531  0.09522354  0.09049629  0.12796859 -0.69133894  0.12787975\n",
            "  -0.08056908 -0.06813259 -0.21433895 -0.10168814 -0.14164862  0.0509271\n",
            "   1.39654206 -1.41268979]]\n",
            "intercept= [-0.15472329]\n",
            "Train score:  0.8589562764456982\n",
            "Test score:  0.7921348314606742\n"
          ]
        }
      ],
      "source": [
        "import pandas as pd\n",
        "import numpy as np\n",
        "from sklearn.model_selection import train_test_split\n",
        "from sklearn.linear_model import LogisticRegression\n",
        "from sklearn.preprocessing import StandardScaler, OneHotEncoder\n",
        "from sklearn.compose import ColumnTransformer\n",
        "from sklearn.pipeline import Pipeline\n",
        "from sklearn.impute import SimpleImputer\n",
        "\n",
        "#sl_df = pd.read_csv(workbook)#csvファイル\n",
        "xlsx_file = \"titanic.xlsx\"  # XLSXファイル\n",
        "sl_df = pd.read_excel(xlsx_file)\n",
        "\n",
        "# 特徴量とターゲット変数\n",
        "X = sl_df.drop(columns=[flag])\n",
        "y = sl_df[flag]\n",
        "\n",
        "\n",
        "# 数値データのカラム\n",
        "numeric_features = X.select_dtypes(include=['float64', 'int64']).columns.tolist()\n",
        "\n",
        "# カテゴリカルデータのカラム\n",
        "categorical_features = X.select_dtypes(include=['object']).columns.tolist()\n",
        "\n",
        "# 前処理パイプライン\n",
        "numeric_transformer = Pipeline(steps=[\n",
        "    ('imputer', SimpleImputer(strategy='median')),\n",
        "    ('scaler', StandardScaler())\n",
        "])\n",
        "\n",
        "categorical_transformer = Pipeline(steps=[\n",
        "    ('imputer', SimpleImputer(strategy='most_frequent')),\n",
        "    ('onehot', OneHotEncoder(handle_unknown='ignore'))\n",
        "])\n",
        "\n",
        "preprocessor = ColumnTransformer(\n",
        "    transformers=[\n",
        "        ('num', numeric_transformer, numeric_features),\n",
        "        ('cat', categorical_transformer, categorical_features)\n",
        "    ])\n",
        "\n",
        "clf = Pipeline(steps=[\n",
        "    ('preprocessor', preprocessor),\n",
        "    ('classifier', LogisticRegression(max_iter=1000))\n",
        "])\n",
        "\n",
        "\n",
        "X_train, X_test, y_train, y_test = train_test_split(X, y, test_size=0.2, random_state=0)\n",
        "\n",
        "\n",
        "clf.fit(X_train, y_train)\n",
        "\n",
        "\n",
        "np.set_printoptions(threshold=np.inf)\n",
        "print(\"coefficient=\", clf.named_steps['classifier'].coef_)  # 傾き\n",
        "print(\"intercept=\", clf.named_steps['classifier'].intercept_)  # 切片\n",
        "\n",
        "print(\"Train score: \", clf.score(X_train, y_train))\n",
        "print(\"Test score: \", clf.score(X_test, y_test))"
      ]
    },
    {
      "cell_type": "code",
      "execution_count": 5,
      "metadata": {
        "colab": {
          "base_uri": "https://localhost:8080/"
        },
        "id": "NXtq1rIZ2_7U",
        "outputId": "987a38a4-44b4-4dcc-ab6f-02d74f9f5620"
      },
      "outputs": [
        {
          "name": "stdout",
          "output_type": "stream",
          "text": [
            "Index(['Pclass', 'Name', 'Sex', 'Age', 'Siblings/Spouses Aboard',\n",
            "       'Parents/Children Aboard', 'Fare'],\n",
            "      dtype='object')\n"
          ]
        }
      ],
      "source": [
        "print(X.columns)"
      ]
    },
    {
      "cell_type": "code",
      "execution_count": 6,
      "metadata": {
        "id": "2uVOp6VH4dgC"
      },
      "outputs": [],
      "source": [
        "clf.fit(X_train, y_train)\n",
        "\n",
        "# 特徴量の名前\n",
        "feature_names = numeric_features + categorical_features\n",
        "\n",
        "# モデルの係数\n",
        "coefficients = clf.named_steps['classifier'].coef_\n",
        "\n",
        "# 係数と特徴量名\n",
        "coef_list = []\n",
        "for feat_name, coef in zip(feature_names, coefficients[0]):\n",
        "    coef_list.append((feat_name, coef))"
      ]
    },
    {
      "cell_type": "code",
      "execution_count": 7,
      "metadata": {
        "colab": {
          "base_uri": "https://localhost:8080/"
        },
        "id": "eFMl00bO4mSn",
        "outputId": "dd0da6a9-cc9a-40fb-f314-2bc8140e6dab"
      },
      "outputs": [
        {
          "name": "stdout",
          "output_type": "stream",
          "text": [
            "Coefficients and corresponding features (sorted in ascending order):\n",
            "1 位 Sex :  0.6220543486621223\n",
            "2 位 Fare :  0.13205978724122078\n",
            "3 位 Name :  -0.09487550130215681\n",
            "4 位 Parents/Children Aboard :  -0.09596797715136227\n",
            "5 位 Siblings/Spouses Aboard :  -0.356746120385049\n",
            "6 位 Age :  -0.6378609042441954\n",
            "7 位 Pclass :  -0.9426012911517627\n"
          ]
        }
      ],
      "source": [
        "#順位\n",
        "coef_list_sorted = sorted(coef_list, key=lambda x: x[1], reverse=True)\n",
        "\n",
        "print(\"Coefficients and corresponding features (sorted in ascending order):\")\n",
        "i = 0\n",
        "for feat_name, coef in coef_list_sorted:\n",
        "    i += 1\n",
        "    print(i,\"位\",feat_name, \": \", coef)"
      ]
    },
    {
      "cell_type": "markdown",
      "metadata": {},
      "source": [
        "PassengerId 乗客ごとの一意の識別子（番号）。データセット内でのインデックスのような役割を果たします。\n",
        "Survived 生存情報を表します。 • 0: 亡くなった • 1: 生存した\n",
        "Pclass 乗客のチケットクラス（客室の等級）を表します。 • 1: ファーストクラス（1等） • 2: セカンドクラス（2等） • 3: サードクラス（3等）\n",
        "Name 乗客の名前。\n",
        "Sex 乗客の性別。 • male: 男性 • female: 女性\n",
        "Age 乗客の年齢。数値で記録されています。\n",
        "SibSp 乗船していた兄弟姉妹や配偶者の人数を表します。 • 例: 1なら兄弟または配偶者が1人。\n",
        "Parch 乗船していた親や子供の人数を表します。 • 例: 0なら親や子供はいない。\n",
        "Ticket チケット番号を表します。アルファベットと数字が含まれます。\n",
        "Fare チケット料金（運賃）を示します。数値で表され、通貨単位はポンドです。\n",
        "Cabin 客室番号を示します。空白の場合は客室番号が不明です。\n",
        "Embarked 乗船した港を示します。 • C: Cherbourg（シェルブール） • Q: Queenstown（クイーンズタウン） • S: Southampton（サウサンプトン）"
      ]
    },
    {
      "cell_type": "code",
      "execution_count": 8,
      "metadata": {
        "colab": {
          "base_uri": "https://localhost:8080/"
        },
        "id": "afM1GrFh4pYU",
        "outputId": "f9ee76da-b3aa-4378-8632-2904ff64848d"
      },
      "outputs": [
        {
          "name": "stdout",
          "output_type": "stream",
          "text": [
            "Confusion matrix:\n",
            " [[101  16]\n",
            " [ 21  40]]\n",
            "Accuracy: 0.7921348314606742\n",
            "Precision: 0.7142857142857143\n",
            "Recall: 0.6557377049180327\n",
            "F1 score: 0.6837606837606838\n"
          ]
        }
      ],
      "source": [
        "from sklearn.metrics import confusion_matrix, accuracy_score, precision_score, recall_score, f1_score\n",
        "\n",
        "# モデルを使ってテストデータに対して予測を行う\n",
        "y_pred = clf.predict(X_test)\n",
        "\n",
        "# 混同行列\n",
        "print('Confusion matrix:\\n', confusion_matrix(y_true=y_test, y_pred=y_pred))\n",
        "\n",
        "# 正解率\n",
        "print('Accuracy:', accuracy_score(y_true=y_test, y_pred=y_pred))\n",
        "\n",
        "# 適合率\n",
        "print('Precision:', precision_score(y_true=y_test, y_pred=y_pred))\n",
        "\n",
        "# 再現率\n",
        "print('Recall:', recall_score(y_true=y_test, y_pred=y_pred))\n",
        "\n",
        "# F1スコア\n",
        "print('F1 score:', f1_score(y_true=y_test, y_pred=y_pred))"
      ]
    },
    {
      "cell_type": "code",
      "execution_count": 11,
      "metadata": {
        "colab": {
          "base_uri": "https://localhost:8080/",
          "height": 472
        },
        "id": "sIi8kxVP40z-",
        "outputId": "12886b50-e930-47c5-fa5d-1d958148d1af"
      },
      "outputs": [
        {
          "name": "stderr",
          "output_type": "stream",
          "text": [
            "Matplotlib is building the font cache; this may take a moment.\n"
          ]
        },
        {
          "data": {
            "image/png": "[encoded data removed]",
            "text/plain": [
              "<Figure size 640x480 with 1 Axes>"
            ]
          },
          "metadata": {},
          "output_type": "display_data"
        }
      ],
      "source": [
        "import matplotlib.pyplot as plt\n",
        "from sklearn.metrics import roc_curve, auc\n",
        "\n",
        "# モデルを使ってテストデータに対して確率を予測する\n",
        "y_score = clf.predict_proba(X_test)[:, 1]\n",
        "\n",
        "# ROC曲線を計算する\n",
        "fpr, tpr, thresholds = roc_curve(y_true=y_test, y_score=y_score)\n",
        "\n",
        "# AUCを計算する\n",
        "roc_auc = auc(fpr, tpr)\n",
        "\n",
        "# ROC曲線をプロットする\n",
        "plt.figure()\n",
        "plt.plot(fpr, tpr, color='darkorange', lw=2, label='ROC curve (area = %0.3f)' % roc_auc)\n",
        "plt.plot([0, 1], [0, 1], color='navy', linestyle='--', lw=2, label='Random guess')\n",
        "plt.xlim([0.0, 1.0])\n",
        "plt.ylim([0.0, 1.05])\n",
        "plt.xlabel('False Positive Rate')\n",
        "plt.ylabel('True Positive Rate')\n",
        "plt.title('Receiver Operating Characteristic (ROC) Curve')\n",
        "plt.legend(loc=\"lower right\")\n",
        "plt.show()\n"
      ]
    },
    {
      "cell_type": "code",
      "execution_count": 32,
      "metadata": {
        "id": "SR-jvqic43uV"
      },
      "outputs": [],
      "source": []
    }
  ],
  "metadata": {
    "colab": {
      "provenance": []
    },
    "kernelspec": {
      "display_name": "Python 3",
      "name": "python3"
    },
    "language_info": {
      "codemirror_mode": {
        "name": "ipython",
        "version": 3
      },
      "file_extension": ".py",
      "mimetype": "text/x-python",
      "name": "python",
      "nbconvert_exporter": "python",
      "pygments_lexer": "ipython3",
      "version": "3.9.6"
    }
  },
  "nbformat": 4,
  "nbformat_minor": 0
}
